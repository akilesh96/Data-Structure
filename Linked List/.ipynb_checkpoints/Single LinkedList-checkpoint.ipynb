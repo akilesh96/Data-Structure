{
 "cells": [
  {
   "cell_type": "code",
   "execution_count": 97,
   "metadata": {},
   "outputs": [],
   "source": [
    "class node:\n",
    "    def __init__(self,data):\n",
    "        self.data = data\n",
    "        self.next = None\n",
    "        \n",
    "class linkedlist:\n",
    "    def __init__(self):\n",
    "        self.head = None\n",
    "        \n",
    "    def printLL(self):\n",
    "        temp = self.head\n",
    "        while(temp):\n",
    "            print(temp.data)\n",
    "            temp = temp.next\n",
    "\n",
    "    def add(self,data):\n",
    "        temp = self.head\n",
    "        if not temp:\n",
    "            self.head = node(data)\n",
    "        else:\n",
    "            while temp.next:\n",
    "                temp = temp.next\n",
    "            temp.next = node(data)\n",
    "            \n",
    "    def add_first(self,data):\n",
    "        temp = node(data)\n",
    "        temp.next = self.head\n",
    "        self.head = temp\n",
    "    # Yet to complete    \n",
    "    def insert(self,index,data):\n",
    "        count = 0\n",
    "        temp = self.head\n",
    "        behind = None\n",
    "        while count != index:\n",
    "            behind = temp\n",
    "            temp = temp.next\n",
    "            count += 1\n",
    "        temp2 = node(data)\n",
    "        temp2.next = temp\n",
    "        behind.next = temp2\n",
    "        "
   ]
  },
  {
   "cell_type": "code",
   "execution_count": 98,
   "metadata": {},
   "outputs": [],
   "source": [
    "link = linkedlist()\n",
    "for i in range(1,5):\n",
    "    link.add(i*10)\n",
    "link.add_first(50)"
   ]
  },
  {
   "cell_type": "code",
   "execution_count": 99,
   "metadata": {},
   "outputs": [
    {
     "name": "stdout",
     "output_type": "stream",
     "text": [
      "50\n",
      "10\n",
      "20\n",
      "30\n",
      "40\n"
     ]
    }
   ],
   "source": [
    "link.printLL()"
   ]
  },
  {
   "cell_type": "code",
   "execution_count": 104,
   "metadata": {},
   "outputs": [
    {
     "name": "stdout",
     "output_type": "stream",
     "text": [
      "50\n",
      "100\n",
      "10\n",
      "20\n",
      "100\n",
      "30\n",
      "40\n"
     ]
    }
   ],
   "source": [
    "link.insert(1,100)\n",
    "link.printLL()"
   ]
  },
  {
   "cell_type": "code",
   "execution_count": null,
   "metadata": {},
   "outputs": [],
   "source": []
  }
 ],
 "metadata": {
  "kernelspec": {
   "display_name": "Python 3",
   "language": "python",
   "name": "python3"
  },
  "language_info": {
   "codemirror_mode": {
    "name": "ipython",
    "version": 3
   },
   "file_extension": ".py",
   "mimetype": "text/x-python",
   "name": "python",
   "nbconvert_exporter": "python",
   "pygments_lexer": "ipython3",
   "version": "3.6.7"
  }
 },
 "nbformat": 4,
 "nbformat_minor": 2
}
